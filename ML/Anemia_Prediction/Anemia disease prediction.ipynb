{
 "cells": [
  {
   "cell_type": "code",
   "execution_count": 1,
   "id": "2b416485",
   "metadata": {},
   "outputs": [],
   "source": [
    "import os\n",
    "import pandas as pd\n",
    "from matplotlib import pyplot as plt\n",
    "import seaborn as sns\n",
    "from sklearn.linear_model import LogisticRegression\n",
    "from sklearn.model_selection import train_test_split\n",
    "from sklearn.metrics import confusion_matrix\n",
    "from sklearn.metrics import accuracy_score\n",
    "from sklearn.tree import DecisionTreeClassifier\n",
    "from sklearn.ensemble import RandomForestClassifier\n",
    "from sklearn.neighbors import KNeighborsClassifier\n",
    "from sklearn.preprocessing import normalize\n",
    "import warnings"
   ]
  },
  {
   "cell_type": "code",
   "execution_count": 2,
   "id": "0b4c9ddd",
   "metadata": {},
   "outputs": [
    {
     "data": {
      "text/html": [
       "<div>\n",
       "<style scoped>\n",
       "    .dataframe tbody tr th:only-of-type {\n",
       "        vertical-align: middle;\n",
       "    }\n",
       "\n",
       "    .dataframe tbody tr th {\n",
       "        vertical-align: top;\n",
       "    }\n",
       "\n",
       "    .dataframe thead th {\n",
       "        text-align: right;\n",
       "    }\n",
       "</style>\n",
       "<table border=\"1\" class=\"dataframe\">\n",
       "  <thead>\n",
       "    <tr style=\"text-align: right;\">\n",
       "      <th></th>\n",
       "      <th>Gender</th>\n",
       "      <th>Hemoglobin</th>\n",
       "      <th>MCH</th>\n",
       "      <th>MCHC</th>\n",
       "      <th>MCV</th>\n",
       "      <th>Result</th>\n",
       "    </tr>\n",
       "  </thead>\n",
       "  <tbody>\n",
       "    <tr>\n",
       "      <th>0</th>\n",
       "      <td>1</td>\n",
       "      <td>14.9</td>\n",
       "      <td>22.7</td>\n",
       "      <td>29.1</td>\n",
       "      <td>83.7</td>\n",
       "      <td>0</td>\n",
       "    </tr>\n",
       "    <tr>\n",
       "      <th>1</th>\n",
       "      <td>0</td>\n",
       "      <td>15.9</td>\n",
       "      <td>25.4</td>\n",
       "      <td>28.3</td>\n",
       "      <td>72.0</td>\n",
       "      <td>0</td>\n",
       "    </tr>\n",
       "    <tr>\n",
       "      <th>2</th>\n",
       "      <td>0</td>\n",
       "      <td>9.0</td>\n",
       "      <td>21.5</td>\n",
       "      <td>29.6</td>\n",
       "      <td>71.2</td>\n",
       "      <td>1</td>\n",
       "    </tr>\n",
       "    <tr>\n",
       "      <th>3</th>\n",
       "      <td>0</td>\n",
       "      <td>14.9</td>\n",
       "      <td>16.0</td>\n",
       "      <td>31.4</td>\n",
       "      <td>87.5</td>\n",
       "      <td>0</td>\n",
       "    </tr>\n",
       "    <tr>\n",
       "      <th>4</th>\n",
       "      <td>1</td>\n",
       "      <td>14.7</td>\n",
       "      <td>22.0</td>\n",
       "      <td>28.2</td>\n",
       "      <td>99.5</td>\n",
       "      <td>0</td>\n",
       "    </tr>\n",
       "    <tr>\n",
       "      <th>5</th>\n",
       "      <td>0</td>\n",
       "      <td>11.6</td>\n",
       "      <td>22.3</td>\n",
       "      <td>30.9</td>\n",
       "      <td>74.5</td>\n",
       "      <td>1</td>\n",
       "    </tr>\n",
       "    <tr>\n",
       "      <th>6</th>\n",
       "      <td>1</td>\n",
       "      <td>12.7</td>\n",
       "      <td>19.5</td>\n",
       "      <td>28.9</td>\n",
       "      <td>82.9</td>\n",
       "      <td>1</td>\n",
       "    </tr>\n",
       "    <tr>\n",
       "      <th>7</th>\n",
       "      <td>1</td>\n",
       "      <td>12.7</td>\n",
       "      <td>28.5</td>\n",
       "      <td>28.2</td>\n",
       "      <td>92.3</td>\n",
       "      <td>1</td>\n",
       "    </tr>\n",
       "    <tr>\n",
       "      <th>8</th>\n",
       "      <td>0</td>\n",
       "      <td>14.1</td>\n",
       "      <td>29.7</td>\n",
       "      <td>30.5</td>\n",
       "      <td>75.2</td>\n",
       "      <td>0</td>\n",
       "    </tr>\n",
       "    <tr>\n",
       "      <th>9</th>\n",
       "      <td>1</td>\n",
       "      <td>14.9</td>\n",
       "      <td>25.8</td>\n",
       "      <td>31.3</td>\n",
       "      <td>82.9</td>\n",
       "      <td>0</td>\n",
       "    </tr>\n",
       "    <tr>\n",
       "      <th>10</th>\n",
       "      <td>1</td>\n",
       "      <td>13.0</td>\n",
       "      <td>18.3</td>\n",
       "      <td>29.6</td>\n",
       "      <td>87.8</td>\n",
       "      <td>1</td>\n",
       "    </tr>\n",
       "    <tr>\n",
       "      <th>11</th>\n",
       "      <td>0</td>\n",
       "      <td>16.7</td>\n",
       "      <td>27.5</td>\n",
       "      <td>28.2</td>\n",
       "      <td>93.0</td>\n",
       "      <td>0</td>\n",
       "    </tr>\n",
       "    <tr>\n",
       "      <th>12</th>\n",
       "      <td>0</td>\n",
       "      <td>13.4</td>\n",
       "      <td>25.2</td>\n",
       "      <td>30.2</td>\n",
       "      <td>95.9</td>\n",
       "      <td>0</td>\n",
       "    </tr>\n",
       "    <tr>\n",
       "      <th>13</th>\n",
       "      <td>0</td>\n",
       "      <td>14.7</td>\n",
       "      <td>28.9</td>\n",
       "      <td>31.0</td>\n",
       "      <td>69.8</td>\n",
       "      <td>0</td>\n",
       "    </tr>\n",
       "    <tr>\n",
       "      <th>14</th>\n",
       "      <td>0</td>\n",
       "      <td>15.9</td>\n",
       "      <td>24.3</td>\n",
       "      <td>28.7</td>\n",
       "      <td>91.5</td>\n",
       "      <td>0</td>\n",
       "    </tr>\n",
       "  </tbody>\n",
       "</table>\n",
       "</div>"
      ],
      "text/plain": [
       "    Gender  Hemoglobin   MCH  MCHC   MCV  Result\n",
       "0        1        14.9  22.7  29.1  83.7       0\n",
       "1        0        15.9  25.4  28.3  72.0       0\n",
       "2        0         9.0  21.5  29.6  71.2       1\n",
       "3        0        14.9  16.0  31.4  87.5       0\n",
       "4        1        14.7  22.0  28.2  99.5       0\n",
       "5        0        11.6  22.3  30.9  74.5       1\n",
       "6        1        12.7  19.5  28.9  82.9       1\n",
       "7        1        12.7  28.5  28.2  92.3       1\n",
       "8        0        14.1  29.7  30.5  75.2       0\n",
       "9        1        14.9  25.8  31.3  82.9       0\n",
       "10       1        13.0  18.3  29.6  87.8       1\n",
       "11       0        16.7  27.5  28.2  93.0       0\n",
       "12       0        13.4  25.2  30.2  95.9       0\n",
       "13       0        14.7  28.9  31.0  69.8       0\n",
       "14       0        15.9  24.3  28.7  91.5       0"
      ]
     },
     "execution_count": 2,
     "metadata": {},
     "output_type": "execute_result"
    }
   ],
   "source": [
    "data_raw = pd.read_csv(\"anemia.csv\")\n",
    "data_raw.head(15)"
   ]
  },
  {
   "cell_type": "code",
   "execution_count": 3,
   "id": "cad0fcb5",
   "metadata": {},
   "outputs": [
    {
     "name": "stdout",
     "output_type": "stream",
     "text": [
      "<class 'pandas.core.frame.DataFrame'>\n",
      "RangeIndex: 1421 entries, 0 to 1420\n",
      "Data columns (total 6 columns):\n",
      " #   Column      Non-Null Count  Dtype  \n",
      "---  ------      --------------  -----  \n",
      " 0   Gender      1421 non-null   int64  \n",
      " 1   Hemoglobin  1421 non-null   float64\n",
      " 2   MCH         1421 non-null   float64\n",
      " 3   MCHC        1421 non-null   float64\n",
      " 4   MCV         1421 non-null   float64\n",
      " 5   Result      1421 non-null   int64  \n",
      "dtypes: float64(4), int64(2)\n",
      "memory usage: 66.7 KB\n"
     ]
    },
    {
     "data": {
      "text/plain": [
       "Gender        1421\n",
       "Hemoglobin    1421\n",
       "MCH           1421\n",
       "MCHC          1421\n",
       "MCV           1421\n",
       "Result        1421\n",
       "dtype: int64"
      ]
     },
     "execution_count": 3,
     "metadata": {},
     "output_type": "execute_result"
    }
   ],
   "source": [
    "data_raw.info()\n",
    "data_raw.count()"
   ]
  },
  {
   "cell_type": "code",
   "execution_count": 4,
   "id": "53dffbbb",
   "metadata": {},
   "outputs": [
    {
     "name": "stdout",
     "output_type": "stream",
     "text": [
      "There is 887 duplicated values in data frame\n",
      "Data columns with null value: \n",
      "Gender        0\n",
      "Hemoglobin    0\n",
      "MCH           0\n",
      "MCHC          0\n",
      "MCV           0\n",
      "Result        0\n",
      "dtype: int64 \n"
     ]
    }
   ],
   "source": [
    "print(\"There is {} duplicated values in data frame\".format(data_raw.duplicated().sum()))\n",
    "print(\"Data columns with null value: \\n{} \".format(data_raw.isnull().sum()))"
   ]
  },
  {
   "cell_type": "code",
   "execution_count": 5,
   "id": "d0ca05cb",
   "metadata": {},
   "outputs": [
    {
     "data": {
      "text/html": [
       "<div>\n",
       "<style scoped>\n",
       "    .dataframe tbody tr th:only-of-type {\n",
       "        vertical-align: middle;\n",
       "    }\n",
       "\n",
       "    .dataframe tbody tr th {\n",
       "        vertical-align: top;\n",
       "    }\n",
       "\n",
       "    .dataframe thead th {\n",
       "        text-align: right;\n",
       "    }\n",
       "</style>\n",
       "<table border=\"1\" class=\"dataframe\">\n",
       "  <thead>\n",
       "    <tr style=\"text-align: right;\">\n",
       "      <th></th>\n",
       "      <th>Gender</th>\n",
       "      <th>Hemoglobin</th>\n",
       "      <th>MCH</th>\n",
       "      <th>MCHC</th>\n",
       "      <th>MCV</th>\n",
       "      <th>Result</th>\n",
       "    </tr>\n",
       "  </thead>\n",
       "  <tbody>\n",
       "    <tr>\n",
       "      <th>115</th>\n",
       "      <td>1</td>\n",
       "      <td>16.9</td>\n",
       "      <td>24.2</td>\n",
       "      <td>32.1</td>\n",
       "      <td>92.5</td>\n",
       "      <td>0</td>\n",
       "    </tr>\n",
       "    <tr>\n",
       "      <th>352</th>\n",
       "      <td>1</td>\n",
       "      <td>16.9</td>\n",
       "      <td>24.2</td>\n",
       "      <td>32.1</td>\n",
       "      <td>92.5</td>\n",
       "      <td>0</td>\n",
       "    </tr>\n",
       "    <tr>\n",
       "      <th>589</th>\n",
       "      <td>1</td>\n",
       "      <td>16.9</td>\n",
       "      <td>24.2</td>\n",
       "      <td>32.1</td>\n",
       "      <td>92.5</td>\n",
       "      <td>0</td>\n",
       "    </tr>\n",
       "    <tr>\n",
       "      <th>138</th>\n",
       "      <td>1</td>\n",
       "      <td>16.8</td>\n",
       "      <td>24.3</td>\n",
       "      <td>30.5</td>\n",
       "      <td>90.7</td>\n",
       "      <td>0</td>\n",
       "    </tr>\n",
       "    <tr>\n",
       "      <th>375</th>\n",
       "      <td>1</td>\n",
       "      <td>16.8</td>\n",
       "      <td>24.3</td>\n",
       "      <td>30.5</td>\n",
       "      <td>90.7</td>\n",
       "      <td>0</td>\n",
       "    </tr>\n",
       "  </tbody>\n",
       "</table>\n",
       "</div>"
      ],
      "text/plain": [
       "     Gender  Hemoglobin   MCH  MCHC   MCV  Result\n",
       "115       1        16.9  24.2  32.1  92.5       0\n",
       "352       1        16.9  24.2  32.1  92.5       0\n",
       "589       1        16.9  24.2  32.1  92.5       0\n",
       "138       1        16.8  24.3  30.5  90.7       0\n",
       "375       1        16.8  24.3  30.5  90.7       0"
      ]
     },
     "execution_count": 5,
     "metadata": {},
     "output_type": "execute_result"
    }
   ],
   "source": [
    "duplicated = data_raw[data_raw.duplicated(keep=False)]\n",
    "duplicated = duplicated.sort_values(by=['Gender', \"Hemoglobin\", \"MCH\",'MCHC','MCV',\"Result\"], ascending= False) \n",
    "duplicated.head()"
   ]
  },
  {
   "cell_type": "code",
   "execution_count": 6,
   "id": "b078da1a",
   "metadata": {},
   "outputs": [
    {
     "name": "stdout",
     "output_type": "stream",
     "text": [
      "There is 0 duplicated values in data frame\n",
      "There is 0 missing values in data frame\n"
     ]
    }
   ],
   "source": [
    "data_raw.drop_duplicates(inplace=True)\n",
    "print(\"There is {} duplicated values in data frame\".format(data_raw.duplicated().sum()))\n",
    "\n",
    "print(\"There is {} missing values in data frame\".format(data_raw.isnull().sum().sum()))"
   ]
  },
  {
   "cell_type": "code",
   "execution_count": 7,
   "id": "c6ef8140",
   "metadata": {},
   "outputs": [
    {
     "name": "stdout",
     "output_type": "stream",
     "text": [
      "           Gender  Hemoglobin         MCH        MCHC         MCV      Result\n",
      "count  534.000000  534.000000  534.000000  534.000000  534.000000  534.000000\n",
      "mean     0.522472   13.287079   22.911985   30.249438   85.647004    0.462547\n",
      "std      0.499963    2.066276    3.948482    1.412312    9.604934    0.499063\n",
      "min      0.000000    6.600000   16.000000   27.800000   69.400000    0.000000\n",
      "25%      0.000000   11.600000   19.500000   29.000000   77.325000    0.000000\n",
      "50%      1.000000   13.100000   22.750000   30.400000   85.450000    0.000000\n",
      "75%      1.000000   14.975000   26.100000   31.475000   94.150000    1.000000\n",
      "max      1.000000   16.900000   30.000000   32.500000  101.600000    1.000000\n"
     ]
    }
   ],
   "source": [
    "x = data_raw.copy(deep=True)\n",
    "print(x.describe())"
   ]
  },
  {
   "cell_type": "code",
   "execution_count": 8,
   "id": "0defac56",
   "metadata": {},
   "outputs": [
    {
     "name": "stdout",
     "output_type": "stream",
     "text": [
      "     Gender  Hemoglobin       MCH      MCHC       MCV  Result\n",
      "0  0.955127    0.780594 -0.053688 -0.813870 -0.202709       0\n",
      "1 -1.045021    1.264556  0.630119 -1.380317 -1.420833       0\n",
      "2 -1.045021   -2.074785 -0.357602 -0.459841 -1.504123       1\n",
      "3 -1.045021    0.780594 -1.750542  0.814666  0.192921       0\n",
      "4  0.955127    0.683801 -0.230971 -1.451123  1.442279       0\n"
     ]
    }
   ],
   "source": [
    "s_list = [\"Gender\", \"Hemoglobin\", \"MCH\", \"MCHC\", \"MCV\"]\n",
    "res = \"Result\"\n",
    "warnings.filterwarnings('ignore')\n",
    "def standartization(x):\n",
    "    x_std = x.copy(deep=True)\n",
    "    for column in s_list:\n",
    "        x_std[column] = (x_std[column]-x_std[column].mean())/x_std[column].std()\n",
    "    return x_std \n",
    "x_std=standartization(x)\n",
    "print(x_std.head())"
   ]
  },
  {
   "cell_type": "code",
   "execution_count": null,
   "id": "350583fa",
   "metadata": {},
   "outputs": [],
   "source": []
  },
  {
   "cell_type": "code",
   "execution_count": null,
   "id": "69c7a3db",
   "metadata": {},
   "outputs": [],
   "source": []
  },
  {
   "cell_type": "code",
   "execution_count": 9,
   "id": "a6b12925",
   "metadata": {},
   "outputs": [],
   "source": [
    "y = x[\"Result\"]\n",
    "y.shape\n",
    "x.drop(\"Result\", axis=1,inplace=True)\n",
    "x.head()\n",
    "x_train,x_test, y_train, y_test = train_test_split(x,y,test_size=0.2,random_state=42)\n"
   ]
  },
  {
   "cell_type": "code",
   "execution_count": 10,
   "id": "cedda97f",
   "metadata": {},
   "outputs": [
    {
     "name": "stdout",
     "output_type": "stream",
     "text": [
      "Classification Model:  Logistic Regression\n",
      "AccuracyScore:  0.9813084112149533\n",
      "----------------------------------------------------------\n",
      "Classification Model:  KNN\n",
      "AccuracyScore:  0.822429906542056\n",
      "----------------------------------------------------------\n",
      "Classification Model:  SVR\n",
      "AccuracyScore:  0.8598130841121495\n",
      "----------------------------------------------------------\n",
      "Classification Model:  Decision Tree\n",
      "AccuracyScore:  1.0\n",
      "----------------------------------------------------------\n",
      "Classification Model:  RandomForest\n",
      "AccuracyScore:  1.0\n",
      "----------------------------------------------------------\n",
      "Classification Model:  GradientBoosting\n",
      "AccuracyScore:  1.0\n",
      "----------------------------------------------------------\n",
      "Classification Model:  XGBoost\n",
      "AccuracyScore:  1.0\n",
      "----------------------------------------------------------\n"
     ]
    }
   ],
   "source": [
    "from sklearn.linear_model import LogisticRegression\n",
    "from sklearn.neighbors import KNeighborsClassifier\n",
    "from sklearn.svm import SVC\n",
    "from sklearn.tree import DecisionTreeClassifier\n",
    "from sklearn.ensemble import RandomForestClassifier\n",
    "from sklearn.ensemble import GradientBoostingClassifier\n",
    "from xgboost import XGBClassifier\n",
    "from sklearn.metrics import accuracy_score\n",
    "\n",
    "models = []\n",
    "\n",
    "models.append((\"Logistic Regression\", LogisticRegression()))\n",
    "models.append(('KNN', KNeighborsClassifier()))\n",
    "models.append(('SVR', SVC()))\n",
    "models.append(('Decision Tree', DecisionTreeClassifier()))\n",
    "models.append(('RandomForest', RandomForestClassifier()))\n",
    "models.append(('GradientBoosting', GradientBoostingClassifier()))\n",
    "models.append(('XGBoost', XGBClassifier()))\n",
    "\n",
    "for name,model in models:\n",
    "    mod = model.fit(x_train,y_train) #trainleri modele fit etmek\n",
    "    y_pred = mod.predict(x_test) # tahmin\n",
    "    acc = accuracy_score(y_test, y_pred) #rmse hesabı\n",
    "    print(\"Classification Model: \",end=\" \")\n",
    "    print(name) #yazdırılacak kısım\n",
    "    print(\"AccuracyScore: \",end=\" \")\n",
    "    print(acc)\n",
    "    print(\"----------------------------------------------------------\")"
   ]
  },
  {
   "cell_type": "raw",
   "id": "3529d3ca",
   "metadata": {},
   "source": []
  },
  {
   "cell_type": "code",
   "execution_count": 11,
   "id": "6df4f877",
   "metadata": {},
   "outputs": [
    {
     "name": "stdout",
     "output_type": "stream",
     "text": [
      "1.0\n"
     ]
    }
   ],
   "source": [
    "model=XGBClassifier()\n",
    "\n",
    "mod = model.fit(x_train,y_train) \n",
    "y_pred = mod.predict(x_test) \n",
    "\n",
    "acc = accuracy_score(y_test, y_pred)\n",
    "print(acc)"
   ]
  },
  {
   "cell_type": "code",
   "execution_count": 12,
   "id": "5348f4aa",
   "metadata": {},
   "outputs": [],
   "source": [
    "from sklearn.metrics import precision_score, recall_score\n",
    "def f2_score(y_true, y_pred, beta=2):\n",
    "    \n",
    "    precision = precision_score(y_true, y_pred)\n",
    "    recall = recall_score(y_true, y_pred)\n",
    "\n",
    "    f2_score = (1 + beta**2) * (precision * recall) / ((beta**2 * precision) + recall)\n",
    "    \n",
    "    return f2_score"
   ]
  },
  {
   "cell_type": "code",
   "execution_count": 13,
   "id": "1f157654",
   "metadata": {},
   "outputs": [
    {
     "name": "stdout",
     "output_type": "stream",
     "text": [
      "F2 Score: 1.0\n"
     ]
    }
   ],
   "source": [
    "print(\"F2 Score:\", f2_score(y_test, y_pred))"
   ]
  },
  {
   "cell_type": "code",
   "execution_count": 14,
   "id": "74fbe60f",
   "metadata": {},
   "outputs": [],
   "source": [
    "# import pickle\n",
    "# with open('Anemia_model.pkl', 'wb') as file:\n",
    "#     pickle.dump(mod, file)\n"
   ]
  },
  {
   "cell_type": "markdown",
   "id": "c2fd3a38",
   "metadata": {},
   "source": [
    " "
   ]
  }
 ],
 "metadata": {
  "kernelspec": {
   "display_name": "Python 3 (ipykernel)",
   "language": "python",
   "name": "python3"
  },
  "language_info": {
   "codemirror_mode": {
    "name": "ipython",
    "version": 3
   },
   "file_extension": ".py",
   "mimetype": "text/x-python",
   "name": "python",
   "nbconvert_exporter": "python",
   "pygments_lexer": "ipython3",
   "version": "3.11.5"
  }
 },
 "nbformat": 4,
 "nbformat_minor": 5
}
